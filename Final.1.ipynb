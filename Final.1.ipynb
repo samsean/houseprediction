{
 "cells": [
  {
   "cell_type": "code",
   "execution_count": null,
   "id": "a97efed1",
   "metadata": {},
   "outputs": [],
   "source": [
    "# Import libraries\n",
    "import pandas as pd\n",
    "import numpy as np\n",
    "import matplotlib.pyplot as plt\n",
    "import seaborn as sns\n",
    "import plotly.express as px\n",
    "from sklearn.preprocessing import LabelEncoder\n",
    "from sklearn.model_selection import train_test_split\n",
    "from sklearn.metrics import mean_squared_error\n",
    "from sklearn.tree import DecisionTreeRegressor\n",
    "from sklearn.ensemble import RandomForestRegressor\n",
    "from sklearn.svm import SVR\n",
    "from sklearn.linear_model import LinearRegression\n",
    "from sklearn.metrics import mean_squared_error\n",
    "import matplotlib.pyplot as plt\n",
    "import seaborn as sns"
   ]
  },
  {
   "cell_type": "code",
   "execution_count": null,
   "id": "c11f7725",
   "metadata": {},
   "outputs": [],
   "source": [
    "#for displaying maximum columns and rows\n",
    "pd.set_option('display.max_columns', 5000)\n",
    "pd.set_option('display.max_rows', 5000)"
   ]
  },
  {
   "cell_type": "code",
   "execution_count": null,
   "id": "0523953b",
   "metadata": {
    "scrolled": true
   },
   "outputs": [],
   "source": [
    "# Read the training data \n",
    "train = pd.read_csv('train.csv')\n",
    "train.head()"
   ]
  },
  {
   "cell_type": "code",
   "execution_count": null,
   "id": "b2e0e258",
   "metadata": {},
   "outputs": [],
   "source": [
    "# Read the test data \n",
    "test = pd.read_csv('test.csv')\n",
    "test.head()"
   ]
  },
  {
   "cell_type": "code",
   "execution_count": null,
   "id": "e69bf34d",
   "metadata": {},
   "outputs": [],
   "source": [
    "# Display information about the train data\n",
    "train.info()"
   ]
  },
  {
   "cell_type": "code",
   "execution_count": null,
   "id": "52e071a7",
   "metadata": {},
   "outputs": [],
   "source": [
    "# Identify categorical columns \n",
    "cat_col = train.select_dtypes(include='object').columns"
   ]
  },
  {
   "cell_type": "code",
   "execution_count": null,
   "id": "6521d0d3",
   "metadata": {},
   "outputs": [],
   "source": [
    "cat_col"
   ]
  },
  {
   "cell_type": "code",
   "execution_count": null,
   "id": "e0063228",
   "metadata": {},
   "outputs": [],
   "source": [
    "num_col = train.select_dtypes(include='int').columns"
   ]
  },
  {
   "cell_type": "code",
   "execution_count": null,
   "id": "9c8d5f37",
   "metadata": {},
   "outputs": [],
   "source": [
    "num_col"
   ]
  },
  {
   "cell_type": "code",
   "execution_count": null,
   "id": "dfc3fbfa",
   "metadata": {},
   "outputs": [],
   "source": [
    "train.isnull().sum()[train.isnull().sum() > 0 ]"
   ]
  },
  {
   "cell_type": "code",
   "execution_count": null,
   "id": "c1c4426f",
   "metadata": {
    "scrolled": false
   },
   "outputs": [],
   "source": [
    "null_col = train.isnull().sum()[train.isnull().sum()>200 ]\n",
    "null_col"
   ]
  },
  {
   "cell_type": "code",
   "execution_count": null,
   "id": "ab770acb",
   "metadata": {
    "scrolled": true
   },
   "outputs": [],
   "source": [
    "# Droping columns with a large number of Nan values\n",
    "train = train.drop(columns=null_col.index)"
   ]
  },
  {
   "cell_type": "code",
   "execution_count": null,
   "id": "37b3933a",
   "metadata": {},
   "outputs": [],
   "source": [
    "test = test.drop(columns=null_col.index)"
   ]
  },
  {
   "cell_type": "code",
   "execution_count": null,
   "id": "9ce41b8e",
   "metadata": {},
   "outputs": [],
   "source": [
    "# Identify numerical columns with missing values\n",
    "num_col = train.select_dtypes(exclude='object').columns\n",
    "num_null = train[num_col].isnull().sum()[train[num_col].isnull().sum() > 0 ].index\n",
    "# Fill missing numerical values with the mean \n",
    "train[num_null] = train[num_null].apply(lambda x :x.fillna(x.mean()))"
   ]
  },
  {
   "cell_type": "code",
   "execution_count": null,
   "id": "a8c076ad",
   "metadata": {},
   "outputs": [],
   "source": [
    "# Identify categorical columns with missing values\n",
    "cat_col = train.select_dtypes(include='object').columns\n",
    "cat_null=train[cat_col].isnull().sum()[train[cat_col].isnull().sum()>0].index\n",
    "# Fill missing categorical values with the mode \n",
    "train[cat_null] = train[cat_null].apply(lambda x :x.fillna(x.mode()))"
   ]
  },
  {
   "cell_type": "code",
   "execution_count": null,
   "id": "e5afb387",
   "metadata": {},
   "outputs": [],
   "source": [
    "# Encodeing categorical columns using LabelEncoder\n",
    "from sklearn.preprocessing import LabelEncoder\n",
    "test = test.copy()\n",
    "for col in test[cat_col].columns:\n",
    "    lb = LabelEncoder()\n",
    "    test[col] = lb.fit_transform(test[col].values)\n",
    "test"
   ]
  },
  {
   "cell_type": "code",
   "execution_count": null,
   "id": "10b24165",
   "metadata": {
    "scrolled": false
   },
   "outputs": [],
   "source": [
    "# Encodeing categorical columns using LabelEncoder\n",
    "from sklearn.preprocessing import LabelEncoder\n",
    "x_enc = train.copy()\n",
    "for col in train[cat_col].columns:\n",
    "    lb = LabelEncoder()\n",
    "    x_enc[col] = lb.fit_transform(train[col].values)\n",
    "x_enc.head()"
   ]
  },
  {
   "cell_type": "code",
   "execution_count": null,
   "id": "17036321",
   "metadata": {},
   "outputs": [],
   "source": [
    "# Separate features (x) and target (y) in the training dataset\n",
    "x = x_enc.drop(columns='SalePrice')\n",
    "y = x_enc['SalePrice']"
   ]
  },
  {
   "cell_type": "code",
   "execution_count": null,
   "id": "d94bea5c",
   "metadata": {},
   "outputs": [],
   "source": [
    "# Split the data into training and testing sets\n",
    "x_train,x_test,y_train,y_test = train_test_split(x,y)"
   ]
  },
  {
   "cell_type": "code",
   "execution_count": null,
   "id": "11710936",
   "metadata": {},
   "outputs": [],
   "source": [
    "# Feature Selection\n",
    "def correlation (x_train,threshold):\n",
    "    col_corr = set()\n",
    "    corr_matrix = x_train.corr()\n",
    "    for i in range(len(corr_matrix.columns)):\n",
    "        for j in range(i):\n",
    "            if abs (corr_matrix.iloc[i,j])>threshold:\n",
    "                colname= corr_matrix.columns[i]\n",
    "                col_corr.add(colname)\n",
    "    return col_corr"
   ]
  },
  {
   "cell_type": "code",
   "execution_count": null,
   "id": "6e7cff0f",
   "metadata": {},
   "outputs": [],
   "source": [
    "#Fixing thrshold value as 0.9\n",
    "corr_features = correlation (x_train,0.9)\n",
    "len(set(corr_features))\n",
    "print('correlated features:',len(set(corr_features)))"
   ]
  },
  {
   "cell_type": "code",
   "execution_count": null,
   "id": "1e4bb7a9",
   "metadata": {},
   "outputs": [],
   "source": [
    "#Random Forest Regressor model \n",
    "rf = RandomForestRegressor()\n",
    "rf.fit(x,y)"
   ]
  },
  {
   "cell_type": "code",
   "execution_count": null,
   "id": "97328984",
   "metadata": {},
   "outputs": [],
   "source": [
    "#Decision Tree Regressor model\n",
    "dt = DecisionTreeRegressor()\n",
    "dt.fit(x, y)"
   ]
  },
  {
   "cell_type": "code",
   "execution_count": null,
   "id": "569e61b1",
   "metadata": {},
   "outputs": [],
   "source": [
    "#Support Vector Machine model\n",
    "svm = SVR(kernel='linear')\n",
    "svm.fit(x_train, y_train)"
   ]
  },
  {
   "cell_type": "code",
   "execution_count": null,
   "id": "1c567b32",
   "metadata": {},
   "outputs": [],
   "source": [
    "#Linear Regression model\n",
    "lr = LinearRegression()\n",
    "lr.fit(x, y)"
   ]
  },
  {
   "cell_type": "code",
   "execution_count": null,
   "id": "68bca758",
   "metadata": {},
   "outputs": [],
   "source": [
    "# Split the data into training and testing sets with a 20% \n",
    "x_train, x_test, y_train, y_test = train_test_split(x, y, test_size=0.2, random_state=42)\n",
    "rf = RandomForestRegressor(n_estimators=100, random_state=42)  \n",
    "rf.fit(x_train, y_train)\n",
    "\n",
    "# Predict SalePrice on the test data and calculate RMSE and MAPE\n",
    "y_pred = rf.predict(x_test)\n",
    "mse = mean_squared_error(y_test, y_pred)\n",
    "rmse = np.sqrt(mse)\n",
    "mape = np.mean(np.abs((y_test - y_pred) / y_test)) * 100\n",
    "print(\"Root Mean Square Error (RMSE):\", rmse)\n",
    "print(\"Mean Absolute Percentage Error (MAPE):\", mape)"
   ]
  },
  {
   "cell_type": "code",
   "execution_count": null,
   "id": "a53bae13",
   "metadata": {},
   "outputs": [],
   "source": [
    "predic = dt.predict(test)"
   ]
  },
  {
   "cell_type": "code",
   "execution_count": null,
   "id": "eac721cd",
   "metadata": {},
   "outputs": [],
   "source": [
    "output = pd.DataFrame({'Id': test['Id'], 'SalePrice': predic})\n",
    "output"
   ]
  },
  {
   "cell_type": "code",
   "execution_count": null,
   "id": "ca1a0dad",
   "metadata": {},
   "outputs": [],
   "source": [
    "# Create a histogram of the 'SalePrice'\n",
    "plt.figure(figsize=(10, 4))  \n",
    "plt.hist(train['SalePrice'], bins=30, color='blue', edgecolor='black')\n",
    "plt.title('Histogram of SalePrice')\n",
    "plt.xlabel('SalePrice')\n",
    "plt.ylabel('Frequency')\n",
    "plt.grid(axis='y', alpha=0.2)\n",
    "plt.grid(axis='x', alpha=0.2)\n",
    "plt.show()"
   ]
  },
  {
   "cell_type": "code",
   "execution_count": null,
   "id": "37c3f398",
   "metadata": {},
   "outputs": [],
   "source": [
    "train.hist(figsize=(20, 20), bins=10,color='blue', edgecolor='black');\n",
    "xlabelsize=6 \n",
    "ylabelsize=13"
   ]
  },
  {
   "cell_type": "code",
   "execution_count": null,
   "id": "6441194e",
   "metadata": {},
   "outputs": [],
   "source": [
    "sns.boxplot(train['SalePrice'])"
   ]
  },
  {
   "cell_type": "code",
   "execution_count": null,
   "id": "cffe5958",
   "metadata": {},
   "outputs": [],
   "source": [
    "for column in num_col:\n",
    "    plt.figure(figsize=(4, 3))\n",
    "    sns.boxplot(data=train, x=column)\n",
    "    plt.title(f'Boxplot for {column}')\n",
    "    plt.xlabel(column)\n",
    "    plt.show()"
   ]
  },
  {
   "cell_type": "code",
   "execution_count": null,
   "id": "590faf39",
   "metadata": {},
   "outputs": [],
   "source": [
    "import matplotlib.pyplot as plt\n",
    "\n",
    "for column in train:\n",
    "    plt.figure()\n",
    "    train.boxplot([column])"
   ]
  },
  {
   "cell_type": "code",
   "execution_count": null,
   "id": "75dbf0a3",
   "metadata": {},
   "outputs": [],
   "source": [
    "train.plot(kind='box')"
   ]
  }
 ],
 "metadata": {
  "kernelspec": {
   "display_name": "Python 3 (ipykernel)",
   "language": "python",
   "name": "python3"
  },
  "language_info": {
   "codemirror_mode": {
    "name": "ipython",
    "version": 3
   },
   "file_extension": ".py",
   "mimetype": "text/x-python",
   "name": "python",
   "nbconvert_exporter": "python",
   "pygments_lexer": "ipython3",
   "version": "3.10.13"
  }
 },
 "nbformat": 4,
 "nbformat_minor": 5
}
